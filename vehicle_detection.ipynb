{
  "nbformat": 4,
  "nbformat_minor": 0,
  "metadata": {
    "colab": {
      "name": "vehicle-detection.ipynb",
      "provenance": []
    },
    "kernelspec": {
      "name": "python3",
      "display_name": "Python 3"
    }
  },
  "cells": [
    {
      "cell_type": "code",
      "metadata": {
        "id": "3XUxve90zgXk"
      },
      "source": [
        "# Clone the PyVision repository for ready-to-use code\n",
        "# Author: Pranjal Datta\n",
        "\n",
        "!git clone https://github.com/pranjaldatta/PyVision.git\n",
        "!git clone https://github.com/pranjaldatta/vehicle-detection-assignment.git\n",
        "\n",
        "# Fixed tqdm for colab\n",
        "# IGNORE the errors\n",
        "!pip install --force https://github.com/chengs/tqdm/archive/colab.zip -qqq"
      ],
      "execution_count": null,
      "outputs": []
    },
    {
      "cell_type": "code",
      "metadata": {
        "id": "aiNJN32z0D6d"
      },
      "source": [
        "\n",
        "import cv2\n",
        "import numpy as np \n",
        "from google.colab.patches import cv2_imshow\n",
        "\n",
        "import os\n",
        "from IPython.display import HTML\n",
        "from base64 import b64encode\n",
        "from tqdm.autonotebook import tqdm\n",
        "import torch"
      ],
      "execution_count": 14,
      "outputs": []
    },
    {
      "cell_type": "code",
      "metadata": {
        "id": "KPB5TYzg0W-M",
        "outputId": "15ad7e66-9e63-4c0c-bb15-c0c41abc06b2",
        "colab": {
          "base_uri": "https://localhost:8080/"
        }
      },
      "source": [
        "# Instantiate the model with pretrained with weights\n",
        "# We use the YOLOv3 model for object detection\n",
        "\n",
        "from PyVision.pyvision.detection import yolov3\n",
        "\n",
        "\n",
        "# checking if CUDA is enabled\n",
        "if torch.cuda.is_available():\n",
        "  device = \"gpu\"\n",
        "else:\n",
        "  device = \"cpu\"\n",
        "\n",
        "yolo = yolov3.YOLOv3(device=device, confidence=0.8, nms_thresh=0.6)"
      ],
      "execution_count": 5,
      "outputs": [
        {
          "output_type": "stream",
          "text": [
            "Weight file exists.\n"
          ],
          "name": "stdout"
        }
      ]
    },
    {
      "cell_type": "code",
      "metadata": {
        "id": "o5brS_8O0eQ1"
      },
      "source": [
        "path = \"D:\\Projects\\Personal\\vehicle-detection\\road-traffic.mp4\"\n"
      ],
      "execution_count": 7,
      "outputs": []
    },
    {
      "cell_type": "code",
      "metadata": {
        "id": "NM1HLd1v1IeL"
      },
      "source": [
        "saveName = \"detect.mp4\"\n",
        "compressedName = \"detect_compressed.mp4\""
      ],
      "execution_count": 30,
      "outputs": []
    },
    {
      "cell_type": "code",
      "metadata": {
        "id": "Uip5wmE51OIQ"
      },
      "source": [
        "size = 800\n",
        "fourcc = cv2.VideoWriter_fourcc(*'MP4V')\n",
        "\n",
        "writer = cv2.VideoWriter(filename=saveName, fourcc=fourcc, fps=30, frameSize=(size, size))"
      ],
      "execution_count": 10,
      "outputs": []
    },
    {
      "cell_type": "code",
      "metadata": {
        "id": "PZZczwRO1USR"
      },
      "source": [
        "cap = cv2.VideoCapture(path)"
      ],
      "execution_count": 11,
      "outputs": []
    },
    {
      "cell_type": "code",
      "metadata": {
        "id": "xSxIDixd1s2V"
      },
      "source": [
        "counter = 0\n",
        "MAX_FRAMES = 700 \n",
        "det_frames = []\n",
        "\n",
        "if MAX_FRAMES > 3000:\n",
        "  print(\"[WARN]: test video contains 3000 frames. Setting MAX_FRAMES to 3000\")\n",
        "  MAX_FRAMES = 3000\n",
        "\n",
        "progress_bar = tqdm(range(0, MAX_FRAMES))\n",
        "for idx,  _ in enumerate(progress_bar):\n",
        "  \n",
        "  ret, frame = cap.read()\n",
        "  frame = cv2.resize(frame, (800, 800))\n",
        "  \n",
        "  try:\n",
        "    time, imgs, objs = yolo.detect(frame, save=False, show=False)\n",
        "  except:\n",
        "    pass\n",
        "  \n",
        "  #print(f\"Frame Id: {counter}/{MAX_FRAMES}: {time} secs\")\n",
        "  progress_bar.set_description(\n",
        "      \"Frame Id: {}/{}: {:.4f} secs\".format(idx+1, MAX_FRAMES, time)\n",
        "  )\n",
        "  det_frames.append(imgs)\n",
        "  \n",
        "\n"
      ],
      "execution_count": null,
      "outputs": []
    },
    {
      "cell_type": "code",
      "metadata": {
        "id": "p-mpO8JW-3Eo"
      },
      "source": [
        "## Write the detected frames into a video. The detected video is ready! Can be downloaded from the File Explorer tab!\n",
        "\n",
        "for frame in tqdm(det_frames):\n",
        "  writer.write(frame)\n",
        "writer.release()"
      ],
      "execution_count": null,
      "outputs": []
    },
    {
      "cell_type": "code",
      "metadata": {
        "id": "x7b4bA8x-8jo"
      },
      "source": [
        "if os.path.exists(compressedName):\n",
        "  os.remove(compressedName)\n",
        "compressed_path =  compressedName\n",
        "os.system(f\"ffmpeg -i {saveName} -vcodec libx264 {compressed_path}\")"
      ],
      "execution_count": null,
      "outputs": []
    },
    {
      "cell_type": "code",
      "metadata": {
        "id": "zUWMK_zI_Jp4"
      },
      "source": [
        "if MAX_FRAMES > 700:\n",
        "  print(\"Too many frames! Colab takes too much time to display large videos! Download the video from 'File Explorer' and play it locally!\")\n",
        "  raise ValueError(\"Too many frames to display! Please download and play the video locally!\")\n",
        "\n",
        "# Show video\n",
        "mp4 = open(compressed_path,'rb').read()\n",
        "decoded_vid = \"data:video/mp4;base64,\" + b64encode(mp4).decode()\n",
        "HTML(f'<video width=800 controls><source src={decoded_vid} type=\"video/mp4\"></video>')"
      ],
      "execution_count": null,
      "outputs": []
    }
  ]
}