{
  "nbformat": 4,
  "nbformat_minor": 0,
  "metadata": {
    "colab": {
      "name": "knn.ipynb",
      "provenance": [],
      "collapsed_sections": []
    },
    "kernelspec": {
      "name": "python3",
      "display_name": "Python 3"
    }
  },
  "cells": [
    {
      "cell_type": "code",
      "metadata": {
        "id": "i8XKw2j4uss-"
      },
      "source": [
        "import numpy as np \n",
        "import torch \n",
        "from keras.datasets import mnist\n",
        "import sklearn\n",
        "from tqdm import tqdm\n",
        "import random\n",
        "import matplotlib.pyplot as plt\n",
        "import time\n",
        "\n",
        "from sklearn.neighbors import KNeighborsClassifier"
      ],
      "execution_count": 5,
      "outputs": []
    },
    {
      "cell_type": "code",
      "metadata": {
        "id": "9LROPhrrux5m",
        "outputId": "77293da2-bb6f-4d7d-ea4c-42525a394b80",
        "colab": {
          "base_uri": "https://localhost:8080/"
        }
      },
      "source": [
        "(xtrain,ytrain),(xtest,ytest)=mnist.load_data()\n",
        "print(\"No of training datapoints:{}\\nNo of Test datapoints:{}\".format(len(xtrain),len(xtest)))"
      ],
      "execution_count": 6,
      "outputs": [
        {
          "output_type": "stream",
          "text": [
            "Downloading data from https://storage.googleapis.com/tensorflow/tf-keras-datasets/mnist.npz\n",
            "11493376/11490434 [==============================] - 1s 0us/step\n",
            "No of training datapoints:60000\n",
            "No of Test datapoints:10000\n"
          ],
          "name": "stdout"
        }
      ]
    },
    {
      "cell_type": "code",
      "metadata": {
        "id": "ZjFweu6rvIqA",
        "outputId": "075c8afd-aabe-4e11-ed11-533756768a55",
        "colab": {
          "base_uri": "https://localhost:8080/",
          "height": 309
        }
      },
      "source": [
        "#visualisations\n",
        "rand_idx = random.sample(range(60000), 4)\n",
        "\n",
        "f, axes=plt.subplots(2,2)\n",
        "\n",
        "f.tight_layout(pad=2.0)\n",
        "\n",
        "#showing images with gaussian noise\n",
        "axes[0,0].imshow(xtrain[rand_idx[0]],cmap=\"gray\")\n",
        "axes[0,0].set_title(ytrain[rand_idx[0]])\n",
        "axes[1,0].imshow(xtrain[rand_idx[1]],cmap='gray')\n",
        "axes[1,0].set_title(ytrain[rand_idx[1]])\n",
        "\n",
        "#showing images with speckle noise\n",
        "axes[0,1].imshow(xtrain[rand_idx[2]],cmap='gray')\n",
        "axes[0,1].set_title(ytrain[rand_idx[2]])\n",
        "axes[1,1].imshow(xtrain[rand_idx[3]],cmap=\"gray\")\n",
        "axes[1,1].set_title(ytrain[rand_idx[3]])"
      ],
      "execution_count": 7,
      "outputs": [
        {
          "output_type": "execute_result",
          "data": {
            "text/plain": [
              "Text(0.5, 1.0, '3')"
            ]
          },
          "metadata": {
            "tags": []
          },
          "execution_count": 7
        },
        {
          "output_type": "display_data",
          "data": {
            "image/png": "[encoded data removed]",
            "text/plain": [
              "<Figure size 432x288 with 4 Axes>"
            ]
          },
          "metadata": {
            "tags": [],
            "needs_background": "light"
          }
        }
      ]
    },
    {
      "cell_type": "code",
      "metadata": {
        "id": "Vc8vjHbmvORw"
      },
      "source": [
        "# An utility function to flatten an image from (H, W, C) to (1, H*W*C)\n",
        "def flatten(x):\n",
        "  return np.reshape(x, (1, -1))\n",
        "  \n",
        "# An utility function to unflatten an image from (1, H*W*C) to (H, W, C)\n",
        "def deflatten(x, h=28, w=28, c=1):\n",
        "  return np.reshape(x, (h, w, c))\n"
      ],
      "execution_count": 9,
      "outputs": []
    },
    {
      "cell_type": "code",
      "metadata": {
        "id": "NZTtNGapvTuA"
      },
      "source": [
        "len_train = xtrain.shape[0]\n",
        "len_test = xtest.shape[0]"
      ],
      "execution_count": 10,
      "outputs": []
    },
    {
      "cell_type": "code",
      "metadata": {
        "id": "u0TFhY0hvXDQ",
        "outputId": "1249a216-bf5b-432f-85e3-740863260373",
        "colab": {
          "base_uri": "https://localhost:8080/"
        }
      },
      "source": [
        "# Convert train examples from [N, 28, 28] to [N, 784]\n",
        "\n",
        "trainimgs = np.zeros((len_train, 784))\n",
        "testimgs = np.zeros((len_test, 784))\n",
        "\n",
        "for idx in tqdm(range(len_train)):\n",
        "  trainimgs[idx, :] = flatten(xtrain[idx])\n",
        "\n",
        "# Convert test examples from [N, 28, 28] to [N, 784]\n",
        "\n",
        "testimgs = np.zeros((len_test, 784))\n",
        "\n",
        "for idx in tqdm(range(len_test)):\n",
        "  testimgs[idx, :] = flatten(xtest[idx])"
      ],
      "execution_count": 11,
      "outputs": [
        {
          "output_type": "stream",
          "text": [
            "100%|██████████| 60000/60000 [00:00<00:00, 256344.47it/s]\n",
            "100%|██████████| 10000/10000 [00:00<00:00, 251718.15it/s]\n"
          ],
          "name": "stderr"
        }
      ]
    },
    {
      "cell_type": "code",
      "metadata": {
        "id": "Qz61WVShvbFt"
      },
      "source": [
        "#initialising the model\n",
        "params = {\n",
        "  \"algorithm\": 'auto',\n",
        "  \"metric\": 'minkowski',\n",
        "  \"n_neighbors\": 3,     \n",
        "}\n",
        "\n",
        "\n",
        "knn = KNeighborsClassifier(**params)"
      ],
      "execution_count": 12,
      "outputs": []
    },
    {
      "cell_type": "code",
      "metadata": {
        "id": "y1l8khPmvgq2",
        "outputId": "7db147fa-1147-4d0c-b526-e02afaaaf756",
        "colab": {
          "base_uri": "https://localhost:8080/"
        }
      },
      "source": [
        "#fitting the model\n",
        "start_time = time.time()\n",
        "knn.fit(trainimgs, ytrain)\n",
        "print(f\"Time taken to fit data: {time.time() - start_time} s\")"
      ],
      "execution_count": 13,
      "outputs": [
        {
          "output_type": "stream",
          "text": [
            "Time taken to fit data: 33.950737714767456 s\n"
          ],
          "name": "stdout"
        }
      ]
    },
    {
      "cell_type": "code",
      "metadata": {
        "id": "BVRC8Rmqvwhx",
        "outputId": "052353d1-0ca2-46a4-d878-2e86387438b7",
        "colab": {
          "base_uri": "https://localhost:8080/",
          "height": 703
        }
      },
      "source": [
        "#testing the model\n",
        "rand_idx = random.sample(range(10000), 10)\n",
        "\n",
        "f, axes=plt.subplots(5, 2)\n",
        "f.set_figheight(10)\n",
        "f.set_figwidth(10)\n",
        "f.tight_layout(pad=3)\n",
        "\n",
        "col = 0\n",
        "rows = [0, 0, 1, 1, 2, 2, 3, 3, 4, 4, 5, 5, 6, 6, 7, 7, 8, 8, 9, 9]\n",
        "for counter, idx, row in zip(range(10), rand_idx, rows):\n",
        "  \n",
        "  if counter % 2 != 0:\n",
        "    col = 1\n",
        "  else:\n",
        "    col = 0\n",
        "\n",
        "  pred = knn.predict(testimgs[idx].reshape(1, -1))\n",
        "  label = ytest[idx]\n",
        "  axes[row, col].imshow(xtest[idx], cmap='gray')\n",
        "  axes[row , col].set_title(f\"Predicted Label: {pred}, True Label: {label}\")"
      ],
      "execution_count": 14,
      "outputs": [
        {
          "output_type": "display_data",
          "data": {
            "image/png": "[encoded data removed]",
            "text/plain": [
              "<Figure size 720x720 with 10 Axes>"
            ]
          },
          "metadata": {
            "tags": [],
            "needs_background": "light"
          }
        }
      ]
    },
    {
      "cell_type": "code",
      "metadata": {
        "id": "p6TROJxvv2H0"
      },
      "source": [
        ""
      ],
      "execution_count": null,
      "outputs": []
    }
  ]
}